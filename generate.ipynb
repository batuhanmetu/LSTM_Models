{
 "cells": [
  {
   "cell_type": "code",
   "execution_count": 2,
   "metadata": {},
   "outputs": [
    {
     "name": "stderr",
     "output_type": "stream",
     "text": [
      "/home/klyshko/anaconda3/lib/python3.6/importlib/_bootstrap.py:219: RuntimeWarning: numpy.dtype size changed, may indicate binary incompatibility. Expected 96, got 88\n",
      "  return f(*args, **kwds)\n",
      "/home/klyshko/anaconda3/lib/python3.6/site-packages/h5py/__init__.py:36: FutureWarning: Conversion of the second argument of issubdtype from `float` to `np.floating` is deprecated. In future, it will be treated as `np.float64 == np.dtype(float).type`.\n",
      "  from ._conv import register_converters as _register_converters\n",
      "Using TensorFlow backend.\n",
      "/home/klyshko/anaconda3/lib/python3.6/importlib/_bootstrap.py:219: RuntimeWarning: numpy.dtype size changed, may indicate binary incompatibility. Expected 96, got 88\n",
      "  return f(*args, **kwds)\n",
      "/home/klyshko/anaconda3/lib/python3.6/importlib/_bootstrap.py:219: RuntimeWarning: numpy.dtype size changed, may indicate binary incompatibility. Expected 96, got 88\n",
      "  return f(*args, **kwds)\n"
     ]
    },
    {
     "name": "stdout",
     "output_type": "stream",
     "text": [
      "Reading model file.\n"
     ]
    },
    {
     "ename": "NameError",
     "evalue": "name 'decoding' is not defined",
     "output_type": "error",
     "traceback": [
      "\u001b[0;31m---------------------------------------------------------------------------\u001b[0m",
      "\u001b[0;31mNameError\u001b[0m                                 Traceback (most recent call last)",
      "\u001b[0;32m<ipython-input-2-92113c935afc>\u001b[0m in \u001b[0;36m<module>\u001b[0;34m()\u001b[0m\n\u001b[1;32m     23\u001b[0m \u001b[0mseed\u001b[0m \u001b[0;34m=\u001b[0m \u001b[0;34m[\u001b[0m\u001b[0;34m]\u001b[0m\u001b[0;34m\u001b[0m\u001b[0;34m\u001b[0m\u001b[0m\n\u001b[1;32m     24\u001b[0m \u001b[0;32mfor\u001b[0m \u001b[0mi\u001b[0m \u001b[0;32min\u001b[0m \u001b[0mrange\u001b[0m\u001b[0;34m(\u001b[0m\u001b[0msentence_length\u001b[0m\u001b[0;34m)\u001b[0m\u001b[0;34m:\u001b[0m\u001b[0;34m\u001b[0m\u001b[0;34m\u001b[0m\u001b[0m\n\u001b[0;32m---> 25\u001b[0;31m     \u001b[0mseed\u001b[0m\u001b[0;34m.\u001b[0m\u001b[0mappend\u001b[0m\u001b[0;34m(\u001b[0m\u001b[0mdecoding\u001b[0m\u001b[0;34m[\u001b[0m\u001b[0mrandom\u001b[0m\u001b[0;34m.\u001b[0m\u001b[0mrandint\u001b[0m\u001b[0;34m(\u001b[0m\u001b[0;36m0\u001b[0m\u001b[0;34m,\u001b[0m \u001b[0mnum_words\u001b[0m \u001b[0;34m-\u001b[0m \u001b[0;36m1\u001b[0m\u001b[0;34m)\u001b[0m\u001b[0;34m]\u001b[0m\u001b[0;34m)\u001b[0m\u001b[0;34m\u001b[0m\u001b[0;34m\u001b[0m\u001b[0m\n\u001b[0m\u001b[1;32m     26\u001b[0m \u001b[0;34m\u001b[0m\u001b[0m\n\u001b[1;32m     27\u001b[0m \u001b[0;34m\u001b[0m\u001b[0m\n",
      "\u001b[0;31mNameError\u001b[0m: name 'decoding' is not defined"
     ]
    }
   ],
   "source": [
    "import numpy as np\n",
    "\n",
    "import keras.models as km\n",
    "import shelve\n",
    "import random\n",
    "\n",
    "modelfile = 'model.h5'\n",
    "\n",
    "#######################################################################\n",
    "\n",
    "# Get the model.\n",
    "print('Reading model file.')\n",
    "model = km.load_model(modelfile)\n",
    "\n",
    "# Get the meta-data.\n",
    "\n",
    "sentence_length = 10\n",
    "num_words = 2476\n",
    "\n",
    "\n",
    "# Randomly choose 50 words from the dictionary of words as our\n",
    "# starting sentence.\n",
    "seed = []\n",
    "for i in range(sentence_length):\n",
    "    seed.append(decoding[random.randint(0, num_words - 1)])\n",
    "\n",
    "\n",
    "# Encode the seed sentence.\n",
    "x = np.zeros((1, sentence_length, num_words), dtype = np.bool)\n",
    "for i, w in enumerate(seed):\n",
    "    x[0, i, encoding[w]] = 1\n",
    "\n",
    "text = ''\n",
    "\n",
    "# Run the seed sentence through the model.  Add the output to the\n",
    "# generated text.  Take the output and append it to the seed sentence\n",
    "# and remove the first word from the seed sentence.  Then repeat until\n",
    "# you've generated as many words as you like.\n",
    "for i in range(1000):\n",
    "\n",
    "    # Get the most-probably next word.\n",
    "    pred = np.argmax(model.predict(x, verbose = 0))\n",
    "\n",
    "    # Add it to the generated text.\n",
    "    text += decoding[pred] + ' '\n",
    "\n",
    "    # Encode the next word.\n",
    "    next_word = np.zeros((1, 1, num_words), dtype = np.bool)\n",
    "    next_word[0, 0, pred] = 1\n",
    "\n",
    "    # Concatenate the next word to the seed sentence, but leave off\n",
    "    # the first element so that the length stays the same.\n",
    "    x = np.concatenate((x[:, 1:, :], next_word), axis = 1)\n",
    "\n",
    "    \n",
    "# Print out the generated text.\n",
    "print(\"Our recipe:\")\n",
    "print(text)"
   ]
  },
  {
   "cell_type": "code",
   "execution_count": null,
   "metadata": {},
   "outputs": [],
   "source": []
  }
 ],
 "metadata": {
  "kernelspec": {
   "display_name": "Python 3",
   "language": "python",
   "name": "python3"
  },
  "language_info": {
   "codemirror_mode": {
    "name": "ipython",
    "version": 3
   },
   "file_extension": ".py",
   "mimetype": "text/x-python",
   "name": "python",
   "nbconvert_exporter": "python",
   "pygments_lexer": "ipython3",
   "version": "3.6.8"
  }
 },
 "nbformat": 4,
 "nbformat_minor": 2
}
